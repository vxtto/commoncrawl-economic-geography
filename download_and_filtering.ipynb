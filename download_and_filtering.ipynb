{
 "cells": [
  {
   "cell_type": "markdown",
   "id": "cb1e6cbd-2dcc-42b0-9b79-a9376f70d9a4",
   "metadata": {},
   "source": [
    "This notebook contains \n",
    "- code to connect to the AWS-hosted Parquet columnar\n",
    "- information about downloading part of the index\n",
    "- code to filter the local index and download WARC records\n",
    "- information to re-index the local WARC files created by the downloaded WARC records"
   ]
  },
  {
   "cell_type": "code",
   "execution_count": 2,
   "id": "c077c8fe-ea8b-44c5-8a8b-6f710fe81517",
   "metadata": {},
   "outputs": [],
   "source": [
    "import pandas as pd\n",
    "import pyarrow.dataset as ds\n",
    "import pyarrow.compute as pc\n",
    "import cdx_toolkit as cdxt\n",
    "from tqdm import tqdm\n",
    "import pandas as pd\n",
    "import s3fs\n",
    "\n",
    "# replace the following location with the folder where you will download parts of the index\n",
    "WORKING_DATA_FOLDER = '/myhome/data/parquets/'"
   ]
  },
  {
   "cell_type": "markdown",
   "id": "69b49068-f3cb-45db-b58b-ce6ccb3b34e7",
   "metadata": {},
   "source": [
    "# Index download"
   ]
  },
  {
   "cell_type": "markdown",
   "id": "7da3fdad-e76f-401b-b0b6-60c0cc782cf1",
   "metadata": {},
   "source": [
    "The following code provides an example to connect to the S3 filesystem.\n",
    "\n",
    "With the connection in place, a table is created and used to identify the index fragments (Parquet files) for download.\n",
    "\n",
    "In this case, this was all the fragments that contained *.ke* URIs between 2022 and 2025."
   ]
  },
  {
   "cell_type": "code",
   "execution_count": 2,
   "id": "a0aa1d4f-21a8-44a6-b77c-c76cc5044150",
   "metadata": {},
   "outputs": [],
   "source": [
    "# replace the access keys with your own\n",
    "AWS_SERVER_PUBLIC_KEY='YOURPK'\n",
    "AWS_SERVER_SECRET_KEY='YOURSK'\n",
    "\n",
    "CC_INDEX_S3_PATH = 'commoncrawl/cc-index/table/cc-main/warc/'"
   ]
  },
  {
   "cell_type": "code",
   "execution_count": 3,
   "id": "599258bb-69e0-4d6f-b29b-4ecbb3b5f035",
   "metadata": {},
   "outputs": [],
   "source": [
    "s3 = s3fs.S3FileSystem(key=AWS_SERVER_PUBLIC_KEY, secret=AWS_SERVER_SECRET_KEY)\n",
    "\n",
    "cc_index = ds.dataset(CC_INDEX_S3_PATH, filesystem=s3, format='parquet', partitioning='hive')"
   ]
  },
  {
   "cell_type": "code",
   "execution_count": 4,
   "id": "f437a943-9338-4c3d-9e4c-9a0f102467d9",
   "metadata": {},
   "outputs": [],
   "source": [
    "crawl_releases = []\n",
    "for year in range(2022,2025):\n",
    "    for week in range(0, 52):\n",
    "        crawl_releases.append(f'CC-MAIN-{year}-{week:02d}')"
   ]
  },
  {
   "cell_type": "code",
   "execution_count": 8,
   "id": "39e552e5-7ab4-4090-b39d-9442afc82455",
   "metadata": {},
   "outputs": [],
   "source": [
    "# fragments are Parquet files that comprise the columnar\n",
    "fragments = list(\n",
    "    cc_index.get_fragments(\n",
    "        filter=(\n",
    "            ds.field('crawl').isin(crawl_releases) &\n",
    "            # ds.field('subset').is_null() &\n",
    "            (ds.field('subset') == 'warc')\n",
    "        )\n",
    "    )\n",
    ")"
   ]
  },
  {
   "cell_type": "code",
   "execution_count": 7,
   "id": "e42646d1-7f53-4d71-be60-7e22fe222a76",
   "metadata": {},
   "outputs": [
    {
     "data": {
      "text/plain": [
       "4203"
      ]
     },
     "execution_count": 7,
     "metadata": {},
     "output_type": "execute_result"
    }
   ],
   "source": [
    "len(fragments)"
   ]
  },
  {
   "cell_type": "code",
   "execution_count": 9,
   "id": "04c4f143-394c-47d9-ae6b-6991fdebc7dc",
   "metadata": {},
   "outputs": [
    {
     "name": "stderr",
     "output_type": "stream",
     "text": [
      "100%|███████████████████████████████████████| 4203/4203 [19:17<00:00,  3.63it/s]\n"
     ]
    }
   ],
   "source": [
    "records=[]\n",
    "failed_rowgroups = 0\n",
    "# Metadata from fragments is collected\n",
    "# it will be used to select useful fragments\n",
    "for fragment in tqdm(fragments):\n",
    "    if fragment.path.endswith('.parquet'):\n",
    "        for rowgroup in fragment.row_groups:\n",
    "            try:\n",
    "                rowg_saved_info = {'fragment':fragment.path}\n",
    "                \n",
    "                rowg_stats = rowgroup.statistics\n",
    "                rowg_saved_info['min_url'] = rowg_stats['url_surtkey']['min'].split(')')[0]\n",
    "                rowg_saved_info['max_url'] = rowg_stats['url_surtkey']['max'].split(')')[0]\n",
    "                \n",
    "                records.append(rowg_saved_info)\n",
    "            except KeyError:\n",
    "                failed_rowgroups+=1"
   ]
  },
  {
   "cell_type": "code",
   "execution_count": 10,
   "id": "f831e741-1432-4a65-941b-e3d7ab109088",
   "metadata": {},
   "outputs": [
    {
     "data": {
      "text/plain": [
       "3"
      ]
     },
     "execution_count": 10,
     "metadata": {},
     "output_type": "execute_result"
    }
   ],
   "source": [
    "# failed_rowgroups"
   ]
  },
  {
   "cell_type": "code",
   "execution_count": 11,
   "id": "8b3b24e2-959d-4f73-abc0-6c889b5facff",
   "metadata": {},
   "outputs": [
    {
     "data": {
      "text/plain": [
       "27230"
      ]
     },
     "execution_count": 11,
     "metadata": {},
     "output_type": "execute_result"
    }
   ],
   "source": [
    "# len(records)"
   ]
  },
  {
   "cell_type": "code",
   "execution_count": 12,
   "id": "f5d5dfab-c47b-4a10-bd67-c363d7171c82",
   "metadata": {},
   "outputs": [],
   "source": [
    "frags_rowg_urls = pd.DataFrame.from_records(records)"
   ]
  },
  {
   "cell_type": "code",
   "execution_count": 14,
   "id": "27350c81-c4c6-4f9c-927e-b8d33633b538",
   "metadata": {
    "scrolled": true
   },
   "outputs": [
    {
     "data": {
      "text/plain": [
       "(17,)"
      ]
     },
     "execution_count": 14,
     "metadata": {},
     "output_type": "execute_result"
    }
   ],
   "source": [
    "frags_rowg_urls.query('min_url <= \"ke..\" & max_url >= \"ke\"').fragment.unique().shape"
   ]
  },
  {
   "cell_type": "markdown",
   "id": "fd0cb79b-139d-40b2-8f46-0be3ffe79bdb",
   "metadata": {},
   "source": [
    "In this case, only websites with *.ke* top-level-domain were needed.\n",
    "\n",
    "This resulted in 17 relevant fragments.\n",
    "\n",
    "Each fragment can be downloaded via CLI wget command. The following commented code block is an example of UK fragments download on a Ubuntu machine. Adapt the code for your specific operating system by uncommenting and adapting to your needs."
   ]
  },
  {
   "cell_type": "code",
   "execution_count": null,
   "id": "4b88b8ea-03f7-4254-8e3b-8b80e057418d",
   "metadata": {},
   "outputs": [],
   "source": [
    "# some_UK_fragments = ['commoncrawl/cc-index/table/cc-main/warc/crawl=CC-MAIN-2022-05/subset=warc/part-00064-1e2959d8-5649-433a-b76e-f1b876a6479d.c000.gz.parquet',\n",
    "#        'commoncrawl/cc-index/table/cc-main/warc/crawl=CC-MAIN-2022-05/subset=warc/part-00089-1e2959d8-5649-433a-b76e-f1b876a6479d.c000.gz.parquet']\n",
    "\n",
    "# for parquet in some_UK_fragments:\n",
    "#     parquet_filename = parquet.split(\"/\")[-1]\n",
    "#     !curl -o {working_data_folder + 'uk/' + parquet_filename} {parquet.replace(\"commoncrawl\", \"https://data.commoncrawl.org\")}"
   ]
  },
  {
   "cell_type": "markdown",
   "id": "e989a799-cf48-4c67-8813-deb9cff84e17",
   "metadata": {},
   "source": [
    "# Filtering"
   ]
  },
  {
   "cell_type": "markdown",
   "id": "bea96efa-07d2-4622-b4b2-82ef6dc59040",
   "metadata": {},
   "source": [
    "The goal of this section is to obtain a sample that contains enough companies, as domains, while discarding pages and domains which might slow down the analysis."
   ]
  },
  {
   "cell_type": "code",
   "execution_count": 3,
   "id": "b1d8884b-537b-4117-be9c-70a63edfba5b",
   "metadata": {},
   "outputs": [],
   "source": [
    "raw_ke_dataset = ds.dataset(WORKING_DATA_FOLDER + 'ke', format=\"parquet\")\n",
    "ke_dataset = raw_ke_dataset.filter(ds.field('url_host_tld') == 'ke')\n",
    "co_ke_dataset = ke_dataset.filter(ds.field('url_host_2nd_last_part') == 'co')"
   ]
  },
  {
   "cell_type": "code",
   "execution_count": 4,
   "id": "88643dd4-e80f-4151-9e9e-0a0ec9dee6cc",
   "metadata": {},
   "outputs": [
    {
     "data": {
      "text/plain": [
       "12215"
      ]
     },
     "execution_count": 4,
     "metadata": {},
     "output_type": "execute_result"
    }
   ],
   "source": [
    "filtering_columns = ['url', 'url_host_name', 'fetch_time', 'fetch_status', 'content_mime_type', 'warc_filename', 'warc_record_offset', 'warc_record_length']\n",
    "\n",
    "# The machine had enough memory to process the table in memory, so Pandas was used instead of pyarrow.\n",
    "# If this is not the case, refer to pyarrow's \"iterative reads\" functionality via .to_batches\n",
    "co_ke_df = co_ke_dataset.to_table(columns=filtering_columns).to_pandas()\n",
    "\n",
    "co_ke_df['year'] = co_ke_df['fetch_time'].dt.year\n",
    "\n",
    "co_ke_filtered = co_ke_df.query('(year == 2024) & (~url.str.contains(\"robots.txt\")) & (fetch_status == 200) & (content_mime_type == \"text/html\")')\n",
    "\n",
    "co_ke_filtered.url_host_name.nunique()"
   ]
  },
  {
   "cell_type": "code",
   "execution_count": 8,
   "id": "52e2bb57-cea8-4b29-a86e-2610cf6542b8",
   "metadata": {},
   "outputs": [
    {
     "data": {
      "image/png": "[encoded data removed]",
      "text/plain": [
       "<Figure size 640x480 with 1 Axes>"
      ]
     },
     "metadata": {},
     "output_type": "display_data"
    }
   ],
   "source": [
    "co_ke_page_counts = co_ke_filtered.url_host_name.value_counts()\n",
    "\n",
    "co_ke_page_counts.sort_values().cumsum().reset_index(drop=True).plot(xlabel=\"Number of hosts\", ylabel=\"Cumulative number of pages\").get_figure().savefig('cumulative_page_dist.png')"
   ]
  },
  {
   "cell_type": "code",
   "execution_count": 7,
   "id": "c81004d6-a8b1-4794-8953-5b1c76751bd9",
   "metadata": {},
   "outputs": [
    {
     "data": {
      "text/plain": [
       "192900"
      ]
     },
     "execution_count": 7,
     "metadata": {},
     "output_type": "execute_result"
    }
   ],
   "source": [
    "bottom_10k_domains = co_ke_page_counts.sort_values().head(int(1e4))\n",
    "bottom_10k_domains.sum()"
   ]
  },
  {
   "cell_type": "markdown",
   "id": "595fe60c-6264-4d18-8936-ea2ec3156aff",
   "metadata": {},
   "source": [
    "The arbitrary cutoff of 10000 domains prevents the number of pages from exploding."
   ]
  },
  {
   "cell_type": "code",
   "execution_count": 8,
   "id": "635b8b9b-bfc1-4965-ab54-eae62aa3e1f5",
   "metadata": {},
   "outputs": [],
   "source": [
    "rename_dict = {\n",
    "    'warc_filename':'filename',\n",
    "    'warc_record_offset':'offset',\n",
    "    'warc_record_length':'length'\n",
    "}"
   ]
  },
  {
   "cell_type": "code",
   "execution_count": 9,
   "id": "8bf1e75f-4448-4b28-8841-5fe5dcd17d05",
   "metadata": {},
   "outputs": [],
   "source": [
    "to_download_pages = co_ke_filtered.query('url_host_name.isin(@bottom_10k_domains.index)').rename(rename_dict, axis=1)"
   ]
  },
  {
   "cell_type": "markdown",
   "id": "683b2666-cda9-41d2-86f9-09297bde6ada",
   "metadata": {},
   "source": [
    "# Pages download"
   ]
  },
  {
   "cell_type": "markdown",
   "id": "a5307336-ff11-41d6-adff-459aa6789c43",
   "metadata": {},
   "source": [
    "With a filtered table of records, the download procedure uses `cdx-toolkit`'s methods."
   ]
  },
  {
   "cell_type": "code",
   "execution_count": 10,
   "id": "1e8e5a03-30fc-412c-a288-df4441594463",
   "metadata": {},
   "outputs": [],
   "source": [
    "warcinfo = {\n",
    "    'software': 'dot_co_dot_ke sample export',\n",
    "    'isPartOf': 'DOTCODOTKE-SAMPLE',\n",
    "    'description': 'warc extraction of 10000 .co.ke domains, taken from commoncrawl as part of vittorio rossi\\'s semester project',\n",
    "    'format': 'WARC file version 1.0',\n",
    "}\n",
    "\n",
    "writer = cdxt.warc.get_writer('DOTCODOTKE', 'SAMPLE', warcinfo, warc_version='1.0')"
   ]
  },
  {
   "cell_type": "code",
   "execution_count": 11,
   "id": "6c6b6bd8-fb57-495c-a1c3-7b2c0170526c",
   "metadata": {},
   "outputs": [],
   "source": [
    "cc_uri = 'https://data.commoncrawl.org'"
   ]
  },
  {
   "cell_type": "code",
   "execution_count": null,
   "id": "87082e3b-4db3-446b-9a6f-0067bb6bee3a",
   "metadata": {},
   "outputs": [],
   "source": [
    "for i, row in to_download_pages.iterrows():\n",
    "    record = cdxt.warc.fetch_warc_record(row, cc_uri)\n",
    "\n",
    "    writer.write_record(record)"
   ]
  },
  {
   "cell_type": "markdown",
   "id": "1eff2fc9-22b0-4383-868c-30ab261718f1",
   "metadata": {},
   "source": [
    "After downloading the required pages, a local index needs to be created.\n",
    "\n",
    "This can be done via the command line on Linux with the `cdxj-indexer` package.\n",
    "The created index file will be loaded in the _embedding_ notebook for processing of individual web pages."
   ]
  }
 ],
 "metadata": {
  "kernelspec": {
   "display_name": "Python 3 (ipykernel)",
   "language": "python",
   "name": "python3"
  },
  "language_info": {
   "codemirror_mode": {
    "name": "ipython",
    "version": 3
   },
   "file_extension": ".py",
   "mimetype": "text/x-python",
   "name": "python",
   "nbconvert_exporter": "python",
   "pygments_lexer": "ipython3",
   "version": "3.12.4"
  }
 },
 "nbformat": 4,
 "nbformat_minor": 5
}
